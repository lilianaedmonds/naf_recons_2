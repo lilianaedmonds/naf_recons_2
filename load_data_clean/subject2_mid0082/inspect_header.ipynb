{
 "cells": [
  {
   "cell_type": "code",
   "execution_count": 2,
   "id": "7f090468",
   "metadata": {},
   "outputs": [],
   "source": [
    "## Imports\n",
    "\n",
    "import sys, os\n",
    "from pathlib import Path\n",
    "\n",
    "parent_folder = str(Path.cwd().parents[1])\n",
    "if parent_folder not in sys.path:\n",
    "    sys.path.append(parent_folder)\n",
    "\n",
    "from sigpy import mri\n",
    "import scipy\n",
    "import pickle\n",
    "from sklearn.decomposition import PCA\n",
    "from matplotlib.colors import ListedColormap\n",
    "import seaborn as sns\n",
    "import sigpy as sp\n",
    "import cupy as cp\n",
    "import numpy as np\n",
    "from sigpy.mri.app import TotalVariationRecon, L1WaveletRecon\n",
    "from scipy.io import savemat\n",
    "import twixtools\n",
    "import matplotlib.pyplot as plt\n",
    "from scipy.signal import medfilt\n",
    "from scipy.signal import butter,filtfilt\n",
    "\n",
    "\n",
    "## My files\n",
    "from ksp_plot_helpers import plot_ksp_data_multichannel, find_and_plot_acquired_region\n",
    "from raw_data_utils import get_kspace_data, get_TR\n",
    "from resp_signal_functions import resp_signal_all_slices, resp_signal_single_slice, resp_signal_center_sample_single_slice\n",
    "from resp_signal_plot_functions import *\n",
    "import gating_functions\n",
    "from pca_helper import pca_resp_signal"
   ]
  },
  {
   "cell_type": "code",
   "execution_count": null,
   "id": "e0595b16",
   "metadata": {},
   "outputs": [],
   "source": [
    "data_file_pt2 = '/data/lilianae/NaF_Patient2/anon_meas_MID00082_FID64646_Tho_fl3d_star_vibe_991_nav_tj_2000sp_AllCoils_SOS_2.dat'\n",
    "# data_file_pt1 = '/data/lilianae/NaF_MtSinai/anon_meas_MID00118_FID60738_Tho_fl3d_star_vibe_991_nav_tj_2000sp_AllCoils_SOS.dat'\n",
    "\n",
    "multi_twix, mapped, ksp_data = get_kspace_data(data_file_pt2)"
   ]
  }
 ],
 "metadata": {
  "kernelspec": {
   "display_name": "jointrecon_env_backup_new",
   "language": "python",
   "name": "python3"
  },
  "language_info": {
   "codemirror_mode": {
    "name": "ipython",
    "version": 3
   },
   "file_extension": ".py",
   "mimetype": "text/x-python",
   "name": "python",
   "nbconvert_exporter": "python",
   "pygments_lexer": "ipython3",
   "version": "3.10.8"
  }
 },
 "nbformat": 4,
 "nbformat_minor": 5
}
